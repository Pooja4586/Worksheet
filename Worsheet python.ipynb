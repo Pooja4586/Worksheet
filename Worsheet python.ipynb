{
 "cells": [
  {
   "cell_type": "code",
   "execution_count": 1,
   "id": "3d9e2442",
   "metadata": {},
   "outputs": [
    {
     "name": "stdout",
     "output_type": "stream",
     "text": [
      "Enter a number for Factorial :\n",
      "5\n",
      "5 !(factorial) is =  120\n"
     ]
    }
   ],
   "source": [
    "print(\"Enter a number for Factorial :\")\n",
    "num=int(input())\n",
    "fact=1\n",
    "for i in range(1,num+1,1):\n",
    "    fact*=i\n",
    "\n",
    "print(num, \"!(factorial) is = \",fact)"
   ]
  },
  {
   "cell_type": "code",
   "execution_count": 5,
   "id": "c40297e2",
   "metadata": {},
   "outputs": [
    {
     "name": "stdout",
     "output_type": "stream",
     "text": [
      "enter a number17\n",
      "Factors of  17 are  1\n",
      "17 is prime\n"
     ]
    }
   ],
   "source": [
    "count=0\n",
    "num=int(input(\"enter a number\"))\n",
    "for i in range(1,num):\n",
    "    if(num%i==0):\n",
    "        print(\"Factors of \",num ,\"are \", i)\n",
    "        count+=1\n",
    "if(count<=1):\n",
    "    print(num, \"is prime\")\n",
    "else:\n",
    "    print(num, \"is non prime\")"
   ]
  },
  {
   "cell_type": "code",
   "execution_count": 15,
   "id": "5886b604",
   "metadata": {},
   "outputs": [
    {
     "name": "stdout",
     "output_type": "stream",
     "text": [
      "Please enter Text : 321\n",
      "Reverse of the string entered is :   123\n",
      "This is Not a Palindrome String \n"
     ]
    }
   ],
   "source": [
    "string = input(\"Please enter Text : \")\n",
    "str1 = \"\"\n",
    "\n",
    "for i in string:\n",
    "    str1 = i + str1  \n",
    "print(\"Reverse of the string entered is :  \", str1)\n",
    "\n",
    "if(string == str1):\n",
    "    print(\"This is a Palindrome String\")\n",
    "else:\n",
    "    print(\"This is Not a Palindrome String \")"
   ]
  },
  {
   "cell_type": "code",
   "execution_count": 17,
   "id": "4fce8962",
   "metadata": {},
   "outputs": [
    {
     "name": "stdout",
     "output_type": "stream",
     "text": [
      "Give side a: 3\n",
      "Give side b: 4\n",
      "The length of the hypotenuse c is 5.0\n"
     ]
    }
   ],
   "source": [
    "import math\n",
    "a = float(input(\"Give side a: \"))\n",
    "b = float(input(\"Give side b: \"))\n",
    "c = math.sqrt(a ** 2 + b ** 2)\n",
    "print(f\"The length of the hypotenuse c is {c}\")"
   ]
  },
  {
   "cell_type": "code",
   "execution_count": 19,
   "id": "ce2430ba",
   "metadata": {},
   "outputs": [
    {
     "name": "stdout",
     "output_type": "stream",
     "text": [
      "Give the side you want to solve for (a, b, or c): b\n",
      "Give side a: 4\n",
      "Give hypotenuse c: 5\n",
      "The length of the side b is 3.0\n"
     ]
    }
   ],
   "source": [
    "import math\n",
    "\n",
    "side = input(\"Give the side you want to solve for (a, b, or c): \")\n",
    "\n",
    "if side == \"a\":\n",
    "    b = float(input(\"Give side b: \"))\n",
    "    c = float(input(\"Give hypotenuse c: \"))\n",
    "    a = math.sqrt(c ** 2 - b ** 2)\n",
    "    print(f\"The length of the side a is {a}\")\n",
    "    \n",
    "elif side == \"b\":\n",
    "    a = float(input(\"Give side a: \"))\n",
    "    c = float(input(\"Give hypotenuse c: \"))\n",
    "    b = math.sqrt(c ** 2 - a ** 2)\n",
    "    print(f\"The length of the side b is {b}\")\n",
    "\n",
    "elif side == \"c\":\n",
    "    a = float(input(\"Give side a: \"))\n",
    "    b = float(input(\"Give side b: \"))\n",
    "    c = math.sqrt(a ** 2 + b ** 2)\n",
    "    print(f\"The length of the hypotenuse c is {c}\")\n",
    "else:\n",
    "    print(\"Invalid input\")"
   ]
  },
  {
   "cell_type": "code",
   "execution_count": 21,
   "id": "09ac72fc",
   "metadata": {},
   "outputs": [
    {
     "name": "stdout",
     "output_type": "stream",
     "text": [
      "Enter the string: hello peeps\n",
      "{'h': 1, 'e': 3, 'l': 2, 'o': 1, ' ': 1, 'p': 2, 's': 1}\n"
     ]
    }
   ],
   "source": [
    "str1 = input (\"Enter the string: \")\n",
    "d = dict()\n",
    "for c in str1:\n",
    "    d[c] = d.get(c, 0) + 1\n",
    "print(d)"
   ]
  },
  {
   "cell_type": "code",
   "execution_count": 22,
   "id": "d986197f",
   "metadata": {},
   "outputs": [
    {
     "name": "stdout",
     "output_type": "stream",
     "text": [
      "Enter a: 8\n",
      "Enter b: 5\n",
      "Enter c: 9\n",
      "The solution are (-0.3125-1.0135796712641785j) and (-0.3125+1.0135796712641785j)\n"
     ]
    }
   ],
   "source": [
    "import cmath  \n",
    "a = float(input('Enter a: '))  \n",
    "b = float(input('Enter b: '))  \n",
    "c = float(input('Enter c: '))  \n",
    "  \n",
    "# calculate the discriminant  \n",
    "d = (b**2) - (4*a*c)  \n",
    "  \n",
    "# find two solutions  \n",
    "sol1 = (-b-cmath.sqrt(d))/(2*a)  \n",
    "sol2 = (-b+cmath.sqrt(d))/(2*a)  \n",
    "print('The solution of equations are {0} and {1}'.format(sol1,sol2))   "
   ]
  },
  {
   "cell_type": "code",
   "execution_count": 35,
   "id": "4ceb6144",
   "metadata": {},
   "outputs": [
    {
     "name": "stdout",
     "output_type": "stream",
     "text": [
      "how many integer sum required :\n",
      "100\n",
      "Sum of first  100 natural numbers is =  5050.0\n"
     ]
    }
   ],
   "source": [
    "print(\"how many integer sum required :\")\n",
    "n=int(input())\n",
    "S=n*(n+1)/2\n",
    "    \n",
    "print(\"Sum of first \", n ,\"natural numbers is = \",S)\n"
   ]
  },
  {
   "cell_type": "code",
   "execution_count": 39,
   "id": "b102e236",
   "metadata": {},
   "outputs": [
    {
     "name": "stdout",
     "output_type": "stream",
     "text": [
      "Enter number of rows: 6\n",
      "* \n",
      "\n",
      "* * \n",
      "\n",
      "* * * \n",
      "\n",
      "* * * * \n",
      "\n",
      "* * * * * \n",
      "\n",
      "* * * * * * \n",
      "\n"
     ]
    }
   ],
   "source": [
    "rows = int(input(\"Enter number of rows: \"))\n",
    "\n",
    "for i in range(rows):\n",
    "    for j in range(i+1):\n",
    "        print(\"* \", end=\"\")\n",
    "    print(\"\\n\")"
   ]
  },
  {
   "cell_type": "code",
   "execution_count": 44,
   "id": "6704fbd0",
   "metadata": {},
   "outputs": [
    {
     "name": "stdout",
     "output_type": "stream",
     "text": [
      "Enter number of rows: 10\n",
      "         * \n",
      "        * * \n",
      "       * * * \n",
      "      * * * * \n",
      "     * * * * * \n",
      "    * * * * * * \n",
      "   * * * * * * * \n",
      "  * * * * * * * * \n",
      " * * * * * * * * * \n",
      "* * * * * * * * * * \n"
     ]
    }
   ],
   "source": [
    "def triangle(n):\n",
    "\n",
    "\n",
    "    k = n - 1\n",
    "\n",
    "\n",
    "    for i in range(0, n):\n",
    "\n",
    "        for j in range(0, k):\n",
    "            print(end=\" \")\n",
    "\n",
    "        k = k - 1\n",
    "\n",
    "        for j in range(0, i+1):\n",
    "\n",
    "            print(\"* \", end=\"\")\n",
    "\n",
    "        print(\"\\r\")\n",
    "\n",
    "\n",
    "rows = int(input(\"Enter number of rows: \"))\n",
    "\n",
    "triangle(rows)\n"
   ]
  },
  {
   "cell_type": "code",
   "execution_count": 50,
   "id": "c8b87af5",
   "metadata": {},
   "outputs": [
    {
     "name": "stdout",
     "output_type": "stream",
     "text": [
      "Enter number of rows: 10\n",
      "         * \n",
      "        * * \n",
      "       * * * \n",
      "      * * * * \n",
      "     * * * * * \n",
      "    * * * * * * \n",
      "   * * * * * * * \n",
      "  * * * * * * * * \n",
      " * * * * * * * * * \n",
      "* * * * * * * * * * \n"
     ]
    }
   ],
   "source": [
    "def triangle(n):\n",
    "\n",
    "\n",
    "    k = n - 1\n",
    "\n",
    "\n",
    "    for i in range(0, n):\n",
    "\n",
    "        for j in range(0, k):\n",
    "            print(end=\" \")\n",
    "\n",
    "        k = k - 1\n",
    "\n",
    "        for j in range(0, i+1):\n",
    "\n",
    "            print(\"* \", end=\"\")\n",
    "\n",
    "        print(\"\\r\")\n",
    "\n",
    "\n",
    "rows = int(input(\"Enter number of rows: \"))\n",
    "\n",
    "triangle(rows)\n"
   ]
  },
  {
   "cell_type": "code",
   "execution_count": 52,
   "id": "f85ec8bc",
   "metadata": {},
   "outputs": [
    {
     "name": "stdout",
     "output_type": "stream",
     "text": [
      "Enter number of rows: 5\n",
      "*********\n",
      " *******\n",
      "  *****\n",
      "   ***\n",
      "    *\n",
      "   ***\n",
      "  *****\n",
      " *******\n",
      "*********\n"
     ]
    }
   ],
   "source": [
    "# Number of Rows\n",
    "row = int(input(\"Enter number of rows: \"))\n",
    "\n",
    "# Upper-Half\n",
    "for i in range(row, 0, -1):\n",
    "    for j in range(row-i):\n",
    "        print(\" \", end=\"\")\n",
    "    for j in range(1, 2*i):\n",
    "        print(\"*\", end=\"\")\n",
    "    print()\n",
    "\n",
    "# Lower-Half\n",
    "for i in range(2, row+1):\n",
    "    for j in range(row-i):\n",
    "        print(\" \", end=\"\")\n",
    "    for j in range(1, 2*i):\n",
    "        print(\"*\", end=\"\")\n",
    "    print()\n"
   ]
  },
  {
   "cell_type": "code",
   "execution_count": 55,
   "id": "0845461e",
   "metadata": {},
   "outputs": [
    {
     "name": "stdout",
     "output_type": "stream",
     "text": [
      "Please enter the number of rows:5\n",
      "      1 \n",
      "     1 1 \n",
      "    1 2 1 \n",
      "   1 3 3 1 \n",
      "  1 4 6 4 1 \n"
     ]
    }
   ],
   "source": [
    "from math import factorial\n",
    " \n",
    "rows = int(input(\"Please enter the number of rows:\"))\n",
    "for i in range(rows):\n",
    "    for j in range(rows-i+1):\n",
    " \n",
    "\n",
    "\n",
    "        print(end=\" \")\n",
    " \n",
    "    for j in range(i+1):\n",
    " \n",
    "\n",
    "        print(factorial(i)//(factorial(j)*factorial(i-j)), end=\" \")\n",
    " \n",
    "\n",
    "    print()\n",
    "    \n",
    "    \n"
   ]
  },
  {
   "cell_type": "code",
   "execution_count": 56,
   "id": "0dbc5742",
   "metadata": {},
   "outputs": [
    {
     "name": "stdout",
     "output_type": "stream",
     "text": [
      "Enter diamond's height: 5\n",
      "      *\n",
      "     ***\n",
      "    *****\n",
      "   *******\n",
      "  *********\n",
      "   *******\n",
      "    *****\n",
      "     ***\n",
      "      *\n"
     ]
    }
   ],
   "source": [
    "h = eval(input(\"Enter diamond's height: \"))\n",
    "\n",
    "for x in range(h):\n",
    "    print(\" \" * (h - x), \"*\" * (2*x + 1))\n",
    "for x in range(h - 2, -1, -1):\n",
    "    print(\" \" * (h - x), \"*\" * (2*x + 1))"
   ]
  },
  {
   "cell_type": "code",
   "execution_count": 58,
   "id": "f784d7ad",
   "metadata": {},
   "outputs": [
    {
     "name": "stdout",
     "output_type": "stream",
     "text": [
      "Enter Diamond Alphabets Pattern Rows = 6\n",
      "     A\n",
      "    ABC\n",
      "   ABCDE\n",
      "  ABCDEFG\n",
      " ABCDEFGHI\n",
      "ABCDEFGHIJK\n",
      " ABCDEFGHI\n",
      "  ABCDEFG\n",
      "   ABCDE\n",
      "    ABC\n",
      "     A\n"
     ]
    }
   ],
   "source": [
    "rows = int(input(\"Enter Diamond Alphabets Pattern Rows = \"))\n",
    "\n",
    "\n",
    "alphabet = 64\n",
    "\n",
    "for i in range(1, rows + 1):\n",
    "    for j in range(1, rows - i + 1):\n",
    "        print(end = ' ')\n",
    "    for k in range(1, (2 * i)):\n",
    "        print('%c' %(alphabet + k), end = '')\n",
    "    print()\n",
    "\n",
    "for i in range(rows - 1, 0, -1):\n",
    "    for j in range(1, (rows - i + 1)):\n",
    "        print(end = ' ')\n",
    "    for k in range(1, (2 * i)):\n",
    "        print('%c' %(alphabet + k), end = '')\n",
    "    print()"
   ]
  }
 ],
 "metadata": {
  "kernelspec": {
   "display_name": "Python 3 (ipykernel)",
   "language": "python",
   "name": "python3"
  },
  "language_info": {
   "codemirror_mode": {
    "name": "ipython",
    "version": 3
   },
   "file_extension": ".py",
   "mimetype": "text/x-python",
   "name": "python",
   "nbconvert_exporter": "python",
   "pygments_lexer": "ipython3",
   "version": "3.9.12"
  }
 },
 "nbformat": 4,
 "nbformat_minor": 5
}
